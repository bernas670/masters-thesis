{
 "cells": [
  {
   "cell_type": "code",
   "execution_count": 1,
   "metadata": {},
   "outputs": [],
   "source": [
    "import matplotlib.pyplot as plt\n",
    "import seaborn as sns\n",
    "import pandas as pd\n",
    "import numpy as np"
   ]
  },
  {
   "cell_type": "code",
   "execution_count": 2,
   "metadata": {},
   "outputs": [
    {
     "name": "stdout",
     "output_type": "stream",
     "text": [
      "Flags: 26\n",
      "['-fcase-merge' '-fcase-folding' '-fcall-arity' '-fexitification'\n",
      " '-fcmm-elim-common-blocks' '-fcmm-sink' '-fcpr-anal' '-fcse' '-fstg-cse'\n",
      " '-fdmd-tx-dict-sel' '-fdo-eta-reduction' '-fdo-lambda-eta-expansion'\n",
      " '-ffloat-in' '-ffull-laziness' '-fignore-asserts' '-fliberate-case'\n",
      " '-floopification' '-fllvm-pass-vectors-in-regs' '-fspec-constr'\n",
      " '-fspecialise' '-fcross-module-specialise' '-fsolve-constant-dicts'\n",
      " '-fstrictness' '-funbox-small-strict-fields' '-fblock-layout-cfg'\n",
      " '-fstg-lift-lams']\n",
      "Programs: 33\n",
      "['cacheprof' 'constraints' 'hash' 'bernouilli' 'exp3_8' 'gen_regexps'\n",
      " 'integrate' 'anna' 'real_cacheprof' 'compress2' 'binary-trees' 'fasta'\n",
      " 'k-nucleotide' 'pidigits' 'callback001' 'callback002' 'chan' 'ansi'\n",
      " 'atom' 'awards' 'banner' 'gg' 'parser' 'fluid' 'cryptarithm1' 'clausify'\n",
      " 'life' 'power' 'treejoin' 'queens' 'parfib' 'blackscholes' 'coins']\n"
     ]
    }
   ],
   "source": [
    "results_csv = '../results/results.csv'\n",
    "df = pd.read_csv(results_csv)\n",
    "\n",
    "all_flags = df['flag'].unique()\n",
    "flags = np.delete(all_flags, np.argwhere(all_flags == '-O0'))\n",
    "progs = df['program'].unique()\n",
    "\n",
    "print(f'Flags: {len(flags)}')\n",
    "print(flags)\n",
    "print(f'Programs: {len(progs)}')\n",
    "print(progs)"
   ]
  },
  {
   "cell_type": "code",
   "execution_count": null,
   "metadata": {},
   "outputs": [],
   "source": [
    "# generate latex figure code\n",
    "\n",
    "for flag in flags:\n",
    "    print(f'''\n",
    "\\\\begin{{figure}}[h!]\n",
    "    \\\\begin{{center}}\n",
    "        \\\\leavevmode\n",
    "        \\\\includegraphics[width=0.86\\\\textwidth]{{figures/appendix/charts/time/{flag[1:]}.png}}\n",
    "        \\\\caption{{Execution time of all benchmarks when compiled with \\\\lstinline{{-O0}} and \\\\lstinline{{{flag}}}}}\n",
    "        \\\\label{{fig:{flag[1:]}_all_time}}\n",
    "    \\\\end{{center}}\n",
    "\\\\end{{figure}}''')\n"
   ]
  },
  {
   "cell_type": "code",
   "execution_count": null,
   "metadata": {},
   "outputs": [],
   "source": [
    "lines = \"\"\"\"\"\""
   ]
  }
 ],
 "metadata": {
  "kernelspec": {
   "display_name": "Python 3.9.5 64-bit",
   "language": "python",
   "name": "python3"
  },
  "language_info": {
   "codemirror_mode": {
    "name": "ipython",
    "version": 3
   },
   "file_extension": ".py",
   "mimetype": "text/x-python",
   "name": "python",
   "nbconvert_exporter": "python",
   "pygments_lexer": "ipython3",
   "version": "3.9.5"
  },
  "orig_nbformat": 4,
  "vscode": {
   "interpreter": {
    "hash": "916dbcbb3f70747c44a77c7bcd40155683ae19c65e1c03b4aa3499c5328201f1"
   }
  }
 },
 "nbformat": 4,
 "nbformat_minor": 2
}
