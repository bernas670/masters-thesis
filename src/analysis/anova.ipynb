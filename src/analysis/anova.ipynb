{
 "cells": [
  {
   "cell_type": "code",
   "execution_count": 1,
   "metadata": {},
   "outputs": [],
   "source": [
    "import pandas as pd\n",
    "import seaborn as sns\n",
    "import matplotlib.pyplot as plt\n",
    "import statsmodels.api as sm\n",
    "import numpy as np\n",
    "import scipy.stats as stats"
   ]
  },
  {
   "cell_type": "code",
   "execution_count": 2,
   "metadata": {},
   "outputs": [
    {
     "name": "stdout",
     "output_type": "stream",
     "text": [
      "total program-flag combinations: 252\n"
     ]
    }
   ],
   "source": [
    "df = pd.read_csv('../../results/results.csv')\n",
    "\n",
    "flags = df['flag'].unique()\n",
    "progs = df['program'].unique()\n",
    "\n",
    "print(f'total program-flag combinations: {len(flags) * len(progs)}')\n",
    "\n",
    "pd.set_option('display.float_format', lambda x: '%.5f' % x)\n",
    "pd.set_option('display.max_colwidth', None)"
   ]
  },
  {
   "cell_type": "code",
   "execution_count": 3,
   "metadata": {},
   "outputs": [],
   "source": [
    "# Remove outliers from the initial data\n"
   ]
  },
  {
   "cell_type": "code",
   "execution_count": 4,
   "metadata": {},
   "outputs": [
    {
     "name": "stdout",
     "output_type": "stream",
     "text": [
      "prog-flag combinations that follow a normal distribution: 221\n"
     ]
    }
   ],
   "source": [
    "# Perform Shapiro-Wilks test for each program-flag combination\n",
    "# to check if the data follows a normal distribution\n",
    "norm_df = []\n",
    "\n",
    "for prog in progs:\n",
    "    for flag in flags:\n",
    "        w, pvalue = stats.shapiro(df[(df['flag'] == flag) & (df['program'] == prog)]['pkg_energy'])\n",
    "        norm_df.append([prog, flag, w, pvalue, pvalue >= 0.05])\n",
    "\n",
    "norm_df = pd.DataFrame(norm_df, columns=['prog', 'flag', 'sw_w', 'sw_p', 'is_normal'])\n",
    "norm_count = len(norm_df[norm_df['is_normal'] == True])\n",
    "\n",
    "print(f'prog-flag combinations that follow a normal distribution: {norm_count}')"
   ]
  },
  {
   "cell_type": "code",
   "execution_count": 5,
   "metadata": {},
   "outputs": [
    {
     "name": "stdout",
     "output_type": "stream",
     "text": [
      "        test            prog        w       p  eq_var  count\n",
      "1   bartlett     constraints  7.07166 0.62966    True     10\n",
      "4   bartlett          exp3_8 14.62668 0.14628    True     11\n",
      "5   bartlett     gen_regexps 14.03554 0.17138    True     11\n",
      "8   bartlett  real_cacheprof  3.22364 0.97566    True     11\n",
      "15  bartlett     callback002 12.04364 0.28215    True     11\n",
      "16  bartlett            chan  9.81531 0.45684    True     11\n",
      "19  bartlett          awards 10.50859 0.48530    True     12\n",
      "\n",
      "prog-flag combinations with homogeneity of variances: 77\n"
     ]
    }
   ],
   "source": [
    "# Check Homogeneity of variances\n",
    "\n",
    "# For data drawn from NORMAL distributions\n",
    "# Perform Bartlett's test\n",
    "norm_progs = norm_df[norm_df['is_normal'] == True]['prog'].unique()\n",
    "\n",
    "homo_df = []\n",
    "for prog in norm_progs:\n",
    "    norm_flags = norm_df[(norm_df['prog'] == prog) & (norm_df['is_normal'] == True)]['flag'].values.tolist()\n",
    "\n",
    "    if (len(norm_flags) <= 1): continue\n",
    "    \n",
    "    data = [df[(df['flag'] == flag) & (df['program'] == prog)]['pkg_energy'] for flag in norm_flags]\n",
    "    w, pvalue = stats.bartlett(*data)\n",
    "    homo_df.append(['bartlett', prog, w, pvalue, pvalue >= 0.12, len(norm_flags), norm_flags])\n",
    "\n",
    "# For data that is not drawn from NORMAL distributions\n",
    "# Perform Lavene's test\n",
    "# non_progs = norm_df[norm_df['is_normal'] == False]['prog'].unique()\n",
    "# for prog in non_progs:\n",
    "#     non_flags = norm_df[(norm_df['prog'] == prog) & (norm_df['is_normal'] == False)]['flag']\n",
    "\n",
    "#     if (len(non_flags) <= 1): continue\n",
    "\n",
    "#     data = [df[(df['flag'] == flag) & (df['program'] == prog)]['pkg_energy'] for flag in non_flags]\n",
    "#     w, pvalue = stats.levene(*data)\n",
    "#     homo_df.append(['levene', prog, w, pvalue, pvalue > 0.05, len(non_flags),non_flags])\n",
    "\n",
    "homo_df = pd.DataFrame(homo_df, columns=['test','prog', 'w', 'p', 'eq_var', 'count', 'flags'])\n",
    "print(homo_df[homo_df['eq_var'] == True].iloc[:, 0:6])\n",
    "\n",
    "homo_count = homo_df[(homo_df['eq_var'] == True) & (homo_df['test'] == 'bartlett')]['count'].sum()\n",
    "\n",
    "print(f'\\nprog-flag combinations with homogeneity of variances: {homo_count}')"
   ]
  },
  {
   "cell_type": "code",
   "execution_count": 6,
   "metadata": {},
   "outputs": [
    {
     "name": "stdout",
     "output_type": "stream",
     "text": [
      "           Program     F Value  P Value  p < 0.05\n",
      "0        cacheprof     2.61449  0.00541      True\n",
      "1      constraints    15.74610  0.00000      True\n",
      "2             hash    19.34971  0.00000      True\n",
      "3       bernouilli     2.40790  0.01026      True\n",
      "4           exp3_8     3.89546  0.00009      True\n",
      "5      gen_regexps    99.58709  0.00000      True\n",
      "6        integrate   155.11694  0.00000      True\n",
      "7             anna     2.56811  0.00625      True\n",
      "8   real_cacheprof     4.22365  0.00003      True\n",
      "9        compress2     4.68830  0.00001      True\n",
      "10    binary-trees     0.99983  0.45150     False\n",
      "11           fasta   763.98826  0.00000      True\n",
      "12    k-nucleotide   360.90387  0.00000      True\n",
      "13        pidigits     5.97124  0.00000      True\n",
      "14     callback001    15.84489  0.00000      True\n",
      "15     callback002     1.80065  0.06243     False\n",
      "16            chan     3.37400  0.00049      True\n",
      "17            ansi    14.90519  0.00000      True\n",
      "18            atom     5.10987  0.00000      True\n",
      "19          awards   126.60341  0.00000      True\n",
      "20          banner 51827.97516  0.00000      True\n"
     ]
    }
   ],
   "source": [
    "values = []\n",
    "\n",
    "for prog in progs:\n",
    "    data = [df[(df['flag'] == flag) & (df['program'] == prog)]['pkg_energy'] for flag in flags]\n",
    "    fvalue, pvalue = stats.f_oneway(*data)\n",
    "    values.append([prog, fvalue, pvalue, pvalue < 0.05])\n",
    "\n",
    "values_df = pd.DataFrame(values, columns=['Program', 'F Value', 'P Value', 'p < 0.05'])\n",
    "print(values_df)"
   ]
  },
  {
   "cell_type": "code",
   "execution_count": 7,
   "metadata": {},
   "outputs": [
    {
     "name": "stdout",
     "output_type": "stream",
     "text": [
      "          Program   F Value  P Value  p < 0.05  \\\n",
      "0     constraints  15.69057  0.00000      True   \n",
      "1          exp3_8   3.84234  0.00021      True   \n",
      "2     gen_regexps  57.03660  0.00000      True   \n",
      "3  real_cacheprof   4.00977  0.00013      True   \n",
      "4     callback002   1.67554  0.09706     False   \n",
      "5            chan   3.74200  0.00027      True   \n",
      "6          awards 126.60341  0.00000      True   \n",
      "\n",
      "                                                                                                                                                                           flags  \n",
      "0                                   [-O0, -fcase-merge, -fcall-arity, -fcmm-elim-common-blocks, -fcmm-sink, -fcpr-anal, -fcse, -fstg-cse, -fdmd-tx-dict-sel, -fdo-eta-reduction]  \n",
      "1       [-fcase-merge, -fcase-folding, -fcall-arity, -fexitification, -fcmm-elim-common-blocks, -fcmm-sink, -fcpr-anal, -fcse, -fstg-cse, -fdmd-tx-dict-sel, -fdo-eta-reduction]  \n",
      "2              [-O0, -fcase-merge, -fcase-folding, -fcall-arity, -fexitification, -fcmm-elim-common-blocks, -fcpr-anal, -fcse, -fstg-cse, -fdmd-tx-dict-sel, -fdo-eta-reduction]  \n",
      "3         [-O0, -fcase-merge, -fcase-folding, -fcall-arity, -fexitification, -fcmm-elim-common-blocks, -fcmm-sink, -fcpr-anal, -fstg-cse, -fdmd-tx-dict-sel, -fdo-eta-reduction]  \n",
      "4             [-O0, -fcase-merge, -fcase-folding, -fcall-arity, -fexitification, -fcmm-elim-common-blocks, -fcmm-sink, -fcpr-anal, -fcse, -fdmd-tx-dict-sel, -fdo-eta-reduction]  \n",
      "5                [-O0, -fcase-folding, -fcall-arity, -fexitification, -fcmm-elim-common-blocks, -fcmm-sink, -fcpr-anal, -fcse, -fstg-cse, -fdmd-tx-dict-sel, -fdo-eta-reduction]  \n",
      "6  [-O0, -fcase-merge, -fcase-folding, -fcall-arity, -fexitification, -fcmm-elim-common-blocks, -fcmm-sink, -fcpr-anal, -fcse, -fstg-cse, -fdmd-tx-dict-sel, -fdo-eta-reduction]  \n"
     ]
    }
   ],
   "source": [
    "# ANOVA only considering the program-flag combinations that respect all assumptions\n",
    "\n",
    "values = []\n",
    "for prog in homo_df[homo_df['eq_var'] == True]['prog']:\n",
    "    p_flags = homo_df[homo_df['prog'] == prog]['flags'].values[0]\n",
    "\n",
    "    data = [df[(df['flag'] == flag) & (df['program'] == prog)]['pkg_energy'] for flag in p_flags]\n",
    "    fvalue, pvalue = stats.f_oneway(*data)\n",
    "    values.append([prog, fvalue, pvalue, pvalue < 0.05, p_flags])\n",
    "\n",
    "values_df = pd.DataFrame(values, columns=['Program', 'F Value', 'P Value', 'p < 0.05', 'flags'])\n",
    "print(values_df)"
   ]
  }
 ],
 "metadata": {
  "interpreter": {
   "hash": "916dbcbb3f70747c44a77c7bcd40155683ae19c65e1c03b4aa3499c5328201f1"
  },
  "kernelspec": {
   "display_name": "Python 3.9.5 64-bit",
   "language": "python",
   "name": "python3"
  },
  "language_info": {
   "codemirror_mode": {
    "name": "ipython",
    "version": 3
   },
   "file_extension": ".py",
   "mimetype": "text/x-python",
   "name": "python",
   "nbconvert_exporter": "python",
   "pygments_lexer": "ipython3",
   "version": "3.9.5"
  },
  "orig_nbformat": 4
 },
 "nbformat": 4,
 "nbformat_minor": 2
}
