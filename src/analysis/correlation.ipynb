{
 "cells": [
  {
   "cell_type": "code",
   "execution_count": null,
   "metadata": {},
   "outputs": [],
   "source": [
    "import pandas as pd\n",
    "import seaborn as sns\n",
    "import matplotlib.pyplot as plt\n",
    "import statsmodels.api as sm\n",
    "import numpy as np\n",
    "import scipy.stats as stats\n",
    "import pingouin as pg\n",
    "from sklearn.linear_model import LinearRegression\n",
    "from sklearn.metrics import mean_squared_error\n",
    "import math"
   ]
  },
  {
   "cell_type": "code",
   "execution_count": null,
   "metadata": {},
   "outputs": [],
   "source": [
    "df = pd.read_csv('../../results/results.csv')\n",
    "print(len(df[df['pkg_energy'] < 0]))\n",
    "df = df[df['pkg_energy'] >= 0]\n",
    "print(len(df['pkg_energy']))\n",
    "\n",
    "flags = df['flag'].unique()\n",
    "progs = df['program'].unique()\n",
    "\n",
    "print(f'Flags: {len(flags)}')\n",
    "print(flags)\n",
    "print(f'Programs: {len(progs)}')\n",
    "print(progs)\n",
    "\n",
    "# print(df[df['pkg_energy'] < 0])\n"
   ]
  },
  {
   "cell_type": "code",
   "execution_count": null,
   "metadata": {},
   "outputs": [],
   "source": [
    "# remove outliers\n",
    "col = 'pkg_energy'\n",
    "total_outliers = 0\n",
    "\n",
    "for prog in progs:\n",
    "    for flag in flags:\n",
    "        data = df[(df['program'] == prog) & (df['flag'] == flag)]\n",
    "        q75, q25 = np.percentile(data.loc[:,col],[75,25])\n",
    "        intr_qr = q75 - q25\n",
    "\n",
    "        max = q75 + (1.5 * intr_qr)\n",
    "        min = q25 - (1.5 * intr_qr)\n",
    "\n",
    "        data.loc[data[col] < min,col] = np.nan\n",
    "        data.loc[data[col] > max,col] = np.nan\n",
    "\n",
    "        outliers_count = data[col].isnull().sum()\n",
    "        total_outliers += outliers_count\n",
    "\n",
    "        # remove outliers\n",
    "        df[(df['program'] == prog) & (df['flag'] == flag)] = data.dropna(axis=0)\n",
    "\n",
    "print(f'Removed a total of {total_outliers} outliers')"
   ]
  },
  {
   "cell_type": "code",
   "execution_count": 14,
   "metadata": {},
   "outputs": [
    {
     "data": {
      "image/png": "[encoded data removed]",
      "text/plain": [
       "<Figure size 432x288 with 1 Axes>"
      ]
     },
     "metadata": {
      "needs_background": "light"
     },
     "output_type": "display_data"
    }
   ],
   "source": [
    "# Perform Spearman's test\n",
    "# Calculate Spearman's correlation coefficient\n",
    "\n",
    "# -1 <= correlation <= 1\n",
    "# positive => as x increases, so does y\n",
    "# negative => as x increases, y decreases\n",
    "\n",
    "# .00-.19 => very weak\n",
    "# .20-.39 => weak\n",
    "# .40-.59 => moderate\n",
    "# .60-.79 => strong\n",
    "# .80-1.0 => very strong\n",
    "\n",
    "df = pd.read_csv('../../results/results.csv')\n",
    "\n",
    "\n",
    "corr_df = []\n",
    "for prog in progs:\n",
    "    for flag in flags:\n",
    "        data = df[(df['flag'] == flag) & (df['program'] == prog)]\n",
    "        corr, pvalue = stats.spearmanr(data['pkg_energy'], data['execution_time'])\n",
    "        # corr_df.append([prog, flag, abs(corr), pvalue])\n",
    "        corr_df.append([prog, flag, corr, pvalue])\n",
    "\n",
    "corr_df = pd.DataFrame(corr_df, columns=['program', 'flag', 'correlation', 'pvalue'])\n",
    "corr_df = corr_df[(corr_df['pvalue'] < 0.05)]\n",
    "# print(corr_df)\n",
    "\n",
    "bins = [-1,-.8,-.6,-.4,-.2,0,.2,.4,.6,.8,1]\n",
    "# chart = sns.histplot(corr_df, x='correlation', bins=bins).set(xlabel='Correlation Coefficient', xticks=bins)\n",
    "counts, edges, bars = plt.hist(x=corr_df['correlation'], bins=bins)\n",
    "plt.xticks(bins)\n",
    "plt.xlabel('Correlation Coefficient')\n",
    "# plt.ylabel('')\n",
    "# plt.grid()\n",
    "plt.bar_label(bars)\n",
    "plt.savefig(\"../../results/charts/random/energy-time-corr.pdf\")\n",
    "\n",
    "# plt.show()\n",
    "\n",
    "\n",
    "# for i in range(0, len(bins) - 1):\n",
    "    # data = corr_df[(corr_df['correlation'] > bins[i]) & (corr_df['correlation'] < bins[i + 1])]\n",
    "    # count = len(data)\n",
    "    # print(f'[{bins[i]}, {bins[i+1]}] \\t {count} \\t {data[\"program\"].values}')\n"
   ]
  },
  {
   "cell_type": "code",
   "execution_count": 13,
   "metadata": {},
   "outputs": [
    {
     "name": "stderr",
     "output_type": "stream",
     "text": [
      "/home/bernas/.local/lib/python3.9/site-packages/seaborn/_decorators.py:36: FutureWarning: Pass the following variables as keyword args: x, y. From version 0.12, the only valid positional argument will be `data`, and passing other arguments without an explicit keyword will result in an error or misinterpretation.\n",
      "  warnings.warn(\n"
     ]
    },
    {
     "name": "stdout",
     "output_type": "stream",
     "text": [
      "Spearman's results \t| coef: 0.9973470064923231 pvalue: 0.0\n",
      "Pearson's results \t| coef: 0.9683251330563797 pvalue: 0.0\n"
     ]
    },
    {
     "data": {
      "image/png": "[encoded data removed]",
      "text/plain": [
       "<Figure size 432x288 with 1 Axes>"
      ]
     },
     "metadata": {
      "needs_background": "light"
     },
     "output_type": "display_data"
    }
   ],
   "source": [
    "# data = df[(df['flag'] == '-fstg-lift-lams') & (df['program'] == 'coins')]\n",
    "\n",
    "sns.scatterplot(df['pkg_energy'], df['execution_time'])\n",
    "plt.xlabel('Energy (J)')\n",
    "plt.ylabel('Execution Time (ms)')\n",
    "plt.grid()\n",
    "# plt.show()\n",
    "\n",
    "plt.savefig(\"../../results/charts/random/energy-time-scatter.pdf\")\n",
    "\n",
    "# print(df[df['execution_time'] > 45000][['program','flag','pkg_energy','execution_time']])\n",
    "\n",
    "corr, pvalue = stats.spearmanr(df['pkg_energy'], df['execution_time'])\n",
    "print(f'Spearman\\'s results \\t| coef: {corr} pvalue: {pvalue}')\n",
    "\n",
    "corr, pvalue = stats.pearsonr(df['pkg_energy'], df['execution_time'])\n",
    "print(f'Pearson\\'s results \\t| coef: {corr} pvalue: {pvalue}')\n",
    "\n",
    "# print(df[df['program'] == 'fasta'][['program','flag','pkg_energy','execution_time']])\n",
    "\n",
    "# the values above 45000 ms belong to fasta when compiled with -fcase-merge, -fcase-folding and -fcall-arity\n"
   ]
  },
  {
   "cell_type": "code",
   "execution_count": null,
   "metadata": {},
   "outputs": [],
   "source": [
    "neg = corr_df[corr_df['correlation'] < -0.8]\n",
    "\n",
    "# display(corr_df[corr_df['correlation'] < 0])\n",
    "for _, row in neg.iterrows():\n",
    "    prog = row['program']\n",
    "    flag = row['flag']\n",
    "\n",
    "    data = df[(df['flag'] == row['flag']) & (df['program'] == row['program'])]\n",
    "\n",
    "    sns.lmplot(x='pkg_energy', y='execution_time', data=data)\n",
    "    # sns.scatterplot(data['pkg_energy'], data['execution_time'])\n",
    "    plt.xlabel('Energy (J)')\n",
    "    plt.ylabel('Execution Time (ms)')\n",
    "    plt.grid()\n",
    "    plt.show()\n",
    "    print(f\"\"\"{prog} {flag} {corr_df[(corr_df['program'] == prog) & (corr_df['flag'] == flag)]['correlation']}\"\"\")"
   ]
  }
 ],
 "metadata": {
  "interpreter": {
   "hash": "916dbcbb3f70747c44a77c7bcd40155683ae19c65e1c03b4aa3499c5328201f1"
  },
  "kernelspec": {
   "display_name": "Python 3.9.5 64-bit",
   "language": "python",
   "name": "python3"
  },
  "language_info": {
   "codemirror_mode": {
    "name": "ipython",
    "version": 3
   },
   "file_extension": ".py",
   "mimetype": "text/x-python",
   "name": "python",
   "nbconvert_exporter": "python",
   "pygments_lexer": "ipython3",
   "version": "3.9.5"
  },
  "orig_nbformat": 4
 },
 "nbformat": 4,
 "nbformat_minor": 2
}
