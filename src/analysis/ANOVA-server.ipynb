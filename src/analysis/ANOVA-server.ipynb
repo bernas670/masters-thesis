{
 "cells": [
  {
   "cell_type": "markdown",
   "id": "ec74b587",
   "metadata": {},
   "source": [
    "# Statistical Analysis Server-side Data"
   ]
  },
  {
   "cell_type": "code",
   "execution_count": 1,
   "id": "89f05b5b",
   "metadata": {},
   "outputs": [
    {
     "data": {
      "text/plain": [
       "'/Users/nil/Roskilde Universitet/Sustainable IT - Master thesis Spring 2022 - Documents/General/Experiment/JupyterNotebooks'"
      ]
     },
     "execution_count": 1,
     "metadata": {},
     "output_type": "execute_result"
    }
   ],
   "source": [
    "pwd"
   ]
  },
  {
   "cell_type": "code",
   "execution_count": 2,
   "id": "8c7fb6f8",
   "metadata": {},
   "outputs": [],
   "source": [
    "import pandas as pd\n",
    "import seaborn as sns\n",
    "import matplotlib.pyplot as plt\n",
    "import statsmodels.api as sm\n",
    "import numpy as np\n",
    "import math\n",
    "from scipy import stats"
   ]
  },
  {
   "cell_type": "code",
   "execution_count": 3,
   "id": "84101cf7",
   "metadata": {},
   "outputs": [],
   "source": [
    "#data import\n",
    "dataDir = '/Users/nil/Roskilde Universitet/Sustainable IT - Master thesis Spring 2022 - Documents/General/Experiment/Data/Exported/AreasServer'\n",
    "experimentData1 = pd.read_csv(dataDir + '/experiment1AreaCollected.csv', sep=',', decimal= '.')\n",
    "experimentData2 = pd.read_csv(dataDir + '/experiment2AreaCollected.csv', sep=',', decimal= '.')\n",
    "experimentData3 = pd.read_csv(dataDir + '/experiment3AreaCollected.csv', sep=',', decimal= '.')\n",
    "experimentData4 = pd.read_csv(dataDir + '/experiment4AreaCollected.csv', sep=',', decimal= '.')\n",
    "\n",
    "experiment1 = np.array(experimentData1['areas'])\n",
    "experiment2 = np.array(experimentData2['areas'])\n",
    "experiment3 = np.array(experimentData3['areas'])\n",
    "experiment4 = np.array(experimentData4['areas'])"
   ]
  },
  {
   "cell_type": "markdown",
   "id": "4fb7b8af",
   "metadata": {},
   "source": [
    "# ANOVA\n",
    "Null hypothesis: Groups means are equal (no variation in means of groups)\n",
    "H0: μ1=μ2=μ3=μ4\n",
    "Alternative hypothesis: At least, one group mean is different from other groups\n",
    "H1: All μ are not equal"
   ]
  },
  {
   "cell_type": "code",
   "execution_count": 4,
   "id": "cd629de5",
   "metadata": {},
   "outputs": [
    {
     "name": "stdout",
     "output_type": "stream",
     "text": [
      "stat=408.785, p=0.000\n",
      "Probably different distributions\n",
      "Exact value of P is: 4.308977898105668e-71\n"
     ]
    }
   ],
   "source": [
    "## THE QUICK WAY\n",
    "stat, p = stats.f_oneway(experiment1, experiment2, experiment3, experiment4)\n",
    "print('stat=%.3f, p=%.3f' % (stat, p))\n",
    "if p > 0.05:\n",
    "\tprint('Probably the same distribution')\n",
    "else:\n",
    "\tprint('Probably different distributions')\n",
    "print('Exact value of P is: ' + str(p))"
   ]
  },
  {
   "cell_type": "code",
   "execution_count": 5,
   "id": "75d6c23c",
   "metadata": {},
   "outputs": [],
   "source": [
    "experimentData1['experiment']='Experiment 1'\n",
    "experimentData2['experiment']='Experiment 2'\n",
    "experimentData3['experiment']='Experiment 3'\n",
    "experimentData4['experiment']='Experiment 4'\n",
    "\n",
    "pdList1 = [experimentData1, experimentData2, experimentData3, experimentData4]\n",
    "areasCollected = pd.concat(pdList1, ignore_index=True)\n",
    "areasCollected = areasCollected.drop(columns=\"runNumber\")\n",
    "areasCollected = areasCollected.drop(columns=\"Unnamed: 0\")\n",
    "areasCollected = areasCollected.drop(columns=\"index\")\n",
    "areasCollected['index']=list(range(len(areasCollected)))\n",
    "areasCollected = areasCollected[['index', 'experiment', 'areas']]\n",
    "\n",
    "pdList2 = [experimentData1, experimentData3, experimentData4]\n",
    "areas1_3_4 = pd.concat(pdList2, ignore_index=True)\n",
    "areas1_3_4 = areas1_3_4.drop(columns=\"runNumber\")\n",
    "areas1_3_4 = areas1_3_4.drop(columns=\"Unnamed: 0\")\n",
    "areas1_3_4 = areas1_3_4.drop(columns=\"index\")\n",
    "areas1_3_4['index']=list(range(len(areas1_3_4)))\n",
    "areas1_3_4 = areas1_3_4[['index', 'experiment', 'areas']]"
   ]
  },
  {
   "cell_type": "code",
   "execution_count": 6,
   "id": "539e8c8a",
   "metadata": {},
   "outputs": [
    {
     "data": {
      "image/png": "[encoded data removed]",
      "text/plain": [
       "<Figure size 1440x360 with 1 Axes>"
      ]
     },
     "metadata": {},
     "output_type": "display_data"
    }
   ],
   "source": [
    "sns.set(rc={'figure.figsize':(20,5)})\n",
    "sns.boxplot(data=areasCollected, y='experiment' , x='areas')\n",
    "plt.savefig('/Users/nil/Roskilde Universitet/Sustainable IT - Master thesis Spring 2022 - Documents/General/Experiment/Data/Charts/boplotAreas_compared_server.png')"
   ]
  },
  {
   "cell_type": "code",
   "execution_count": 7,
   "id": "75060bc7",
   "metadata": {},
   "outputs": [
    {
     "data": {
      "image/png": "[encoded data removed]",
      "text/plain": [
       "<Figure size 1440x360 with 1 Axes>"
      ]
     },
     "metadata": {},
     "output_type": "display_data"
    }
   ],
   "source": [
    "sns.set(rc={'figure.figsize':(20,5)})\n",
    "sns.boxplot(data=areas1_3_4, y='experiment' , x='areas')\n",
    "plt.savefig('/Users/nil/Roskilde Universitet/Sustainable IT - Master thesis Spring 2022 - Documents/General/Experiment/Data/Charts/boplotAreas_compared1_3_4_server.png')"
   ]
  },
  {
   "cell_type": "markdown",
   "id": "986ed5bc",
   "metadata": {},
   "source": [
    "# T-TEST "
   ]
  },
  {
   "cell_type": "code",
   "execution_count": 8,
   "id": "28e616c5",
   "metadata": {
    "scrolled": true
   },
   "outputs": [
    {
     "data": {
      "text/plain": [
       "[27.99943330747545, 5958.4469190106765, 3.7750276848510564, 1.2659300420587898]"
      ]
     },
     "execution_count": 8,
     "metadata": {},
     "output_type": "execute_result"
    }
   ],
   "source": [
    "# get variance for all of them\n",
    "[np.var(x, ddof=1) for x in [experiment1, experiment2, experiment3, experiment4]]"
   ]
  },
  {
   "cell_type": "markdown",
   "id": "21d5566e",
   "metadata": {},
   "source": [
    "## Experiment 1 & 2\n",
    "H0: the means of the samples are equal.<br>\n",
    "H1: the means of the samples are unequal."
   ]
  },
  {
   "cell_type": "code",
   "execution_count": 9,
   "id": "1a744745",
   "metadata": {},
   "outputs": [
    {
     "name": "stdout",
     "output_type": "stream",
     "text": [
      "stat=79.741, p=0.000\n",
      "exact p: 1.3339159479185038e-13\n"
     ]
    }
   ],
   "source": [
    "# check for equal variance. Low p-value means not equal variance\n",
    "stat, p = stats.levene(experiment1, experiment2)\n",
    "print('stat=%.3f, p=%.3f' % (stat, p))\n",
    "print('exact p: ' + str(p)) \n",
    "# If low, perform Welch’s t-test, which does not assume equal population variance"
   ]
  },
  {
   "cell_type": "code",
   "execution_count": 10,
   "id": "24e972c3",
   "metadata": {},
   "outputs": [
    {
     "name": "stdout",
     "output_type": "stream",
     "text": [
      "stat=-18.432, p=0.000\n",
      "Probably different distributions\n",
      "Exact value of P is: 1.1968756855958271e-20\n"
     ]
    }
   ],
   "source": [
    "# Student's t-test EXP1 & EXP2\n",
    "stat, p = stats.ttest_ind(experiment1, experiment2, equal_var = False)\n",
    "print('stat=%.3f, p=%.3f' % (stat, p))\n",
    "if p > 0.05:\n",
    "\tprint('Probably the same distribution')\n",
    "else:\n",
    "\tprint('Probably different distributions')\n",
    "print('Exact value of P is: ' + str(p))"
   ]
  },
  {
   "cell_type": "markdown",
   "id": "85e5b71e",
   "metadata": {},
   "source": [
    "## Experiment 1 & 3\n",
    "H0: the means of the samples are equal.\n",
    "H1: the means of the samples are unequal."
   ]
  },
  {
   "cell_type": "code",
   "execution_count": 11,
   "id": "122771eb",
   "metadata": {},
   "outputs": [
    {
     "name": "stdout",
     "output_type": "stream",
     "text": [
      "stat=22.839, p=0.000\n",
      "exact p: 8.563353482533723e-06\n"
     ]
    }
   ],
   "source": [
    "# check for equal variance. Low p-value means not equal variance\n",
    "stat, p = stats.levene(experiment1, experiment3)\n",
    "print('stat=%.3f, p=%.3f' % (stat, p))\n",
    "print('exact p: ' + str(p)) \n",
    "# If low, perform Welch’s t-test, which does not assume equal population variance"
   ]
  },
  {
   "cell_type": "code",
   "execution_count": 12,
   "id": "9e929103",
   "metadata": {},
   "outputs": [
    {
     "name": "stdout",
     "output_type": "stream",
     "text": [
      "stat=26.904, p=0.000\n",
      "Probably different distributions\n",
      "Exact value of P is: 8.018269126182878e-33\n"
     ]
    }
   ],
   "source": [
    "# Student's t-test EXP1 & EXP3\n",
    "from scipy.stats import ttest_ind\n",
    "stat, p = ttest_ind(experiment1, experiment3, equal_var = False)\n",
    "print('stat=%.3f, p=%.3f' % (stat, p))\n",
    "if p > 0.05:\n",
    "\tprint('Probably the same distribution')\n",
    "else:\n",
    "\tprint('Probably different distributions')\n",
    "print('Exact value of P is: ' + str(p))"
   ]
  },
  {
   "cell_type": "markdown",
   "id": "9a124d31",
   "metadata": {},
   "source": [
    "## Experiment 1 & 4\n",
    "H0: the means of the samples are equal.\n",
    "H1: the means of the samples are unequal."
   ]
  },
  {
   "cell_type": "code",
   "execution_count": 13,
   "id": "ccf5fdb8",
   "metadata": {},
   "outputs": [
    {
     "name": "stdout",
     "output_type": "stream",
     "text": [
      "stat=39.323, p=0.000\n",
      "exact p: 2.08588120832163e-08\n"
     ]
    }
   ],
   "source": [
    "# check for equal variance. Low p-value means not equal variance\n",
    "stat, p = stats.levene(experiment1, experiment4)\n",
    "print('stat=%.3f, p=%.3f' % (stat, p))\n",
    "print('exact p: ' + str(p)) \n",
    "# If low, perform Welch’s t-test, which does not assume equal population variance"
   ]
  },
  {
   "cell_type": "code",
   "execution_count": 14,
   "id": "2c43710c",
   "metadata": {},
   "outputs": [
    {
     "name": "stdout",
     "output_type": "stream",
     "text": [
      "stat=64.140, p=0.000\n",
      "Probably different distributions\n",
      "Exact value of P is: 3.388413163479982e-46\n"
     ]
    }
   ],
   "source": [
    "# Student's t-test EXP1 & EXP4\n",
    "from scipy.stats import ttest_ind\n",
    "stat, p = ttest_ind(experiment1, experiment4, equal_var = False)\n",
    "print('stat=%.3f, p=%.3f' % (stat, p))\n",
    "if p > 0.05:\n",
    "\tprint('Probably the same distribution')\n",
    "else:\n",
    "\tprint('Probably different distributions')\n",
    "print('Exact value of P is: ' + str(p))"
   ]
  },
  {
   "cell_type": "markdown",
   "id": "e669745a",
   "metadata": {},
   "source": [
    "## Experiment 3 & 4\n",
    "H0: the means of the samples are equal.\n",
    "H1: the means of the samples are unequal."
   ]
  },
  {
   "cell_type": "code",
   "execution_count": 15,
   "id": "bf5ad163",
   "metadata": {},
   "outputs": [
    {
     "name": "stdout",
     "output_type": "stream",
     "text": [
      "stat=10.066, p=0.002\n",
      "exact p: 0.0022676557384425874\n"
     ]
    }
   ],
   "source": [
    "# check for equal variance. Low p-value means not equal variance\n",
    "stat, p = stats.levene(experiment3, experiment4)\n",
    "print('stat=%.3f, p=%.3f' % (stat, p))\n",
    "print('exact p: ' + str(p)) \n",
    "# If low, perform Welch’s t-test, which does not assume equal population variance"
   ]
  },
  {
   "cell_type": "code",
   "execution_count": 16,
   "id": "6a575fea",
   "metadata": {},
   "outputs": [
    {
     "name": "stdout",
     "output_type": "stream",
     "text": [
      "stat=79.298, p=0.000\n",
      "Probably different distributions\n",
      "Exact value of P is: 5.495431907250281e-58\n"
     ]
    }
   ],
   "source": [
    "# Student's t-test EXP3 & EXP4\n",
    "from scipy.stats import ttest_ind\n",
    "stat, p = ttest_ind(experiment3, experiment4, equal_var = False)\n",
    "print('stat=%.3f, p=%.3f' % (stat, p))\n",
    "if p > 0.05:\n",
    "\tprint('Probably the same distribution')\n",
    "else:\n",
    "\tprint('Probably different distributions')\n",
    "print('Exact value of P is: ' + str(p))"
   ]
  },
  {
   "cell_type": "code",
   "execution_count": null,
   "id": "7d8d8990",
   "metadata": {},
   "outputs": [],
   "source": []
  }
 ],
 "metadata": {
  "kernelspec": {
   "display_name": "Python 3 (ipykernel)",
   "language": "python",
   "name": "python3"
  },
  "language_info": {
   "codemirror_mode": {
    "name": "ipython",
    "version": 3
   },
   "file_extension": ".py",
   "mimetype": "text/x-python",
   "name": "python",
   "nbconvert_exporter": "python",
   "pygments_lexer": "ipython3",
   "version": "3.10.4"
  }
 },
 "nbformat": 4,
 "nbformat_minor": 5
}
